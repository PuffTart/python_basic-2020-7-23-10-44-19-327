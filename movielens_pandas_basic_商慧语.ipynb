{
 "cells": [
  {
   "cell_type": "markdown",
   "metadata": {},
   "source": [
    "## 背景\n",
    "\n",
    "`MovieLens`数据集是一个广泛用来研究推荐系统算法的一个数据集。这个数据集包含了来自[电影推荐网站](https://movielens.org/)多年积累的数据。我们将基于这个数据集练习数据的处理和分析。\n",
    "\n",
    "从 [grouplens](http://files.grouplens.org/datasets/movielens/ml-latest-small.zip) 下载数据集 MovieLens 1M Dataset。\n",
    "数据集包含6个文件：\n",
    "- `tags.csv` 用户给电影打的标签:\n",
    "    - userId\n",
    "    - movieId\n",
    "    - tag\n",
    "    - timestamp\n",
    "- `ratings.csv` 用户给电影的评分:\n",
    "    - userId\n",
    "    - movieId\n",
    "    - rating\n",
    "    - timestamp\n",
    "- `movies.csv` 电影信息:\n",
    "    - movieId\n",
    "    - title\n",
    "    - genres\n",
    "- `links.csv` 链接到其他资源的`id`:\n",
    "    - movieId\n",
    "    - imdbId\n",
    "    - tmbdId\n",
    "\n",
    "## 需求\n",
    "\n",
    "读取rates.csv文件，完成：\n",
    "\n",
    "1. 将每1分做为一档，电影的评分共分为5档，(0:1], (1,2], (2, 3], (3, 4], (4, 5], 通过pandas包求出每个评分档共有多少部电影\n",
    "\n",
    "2. 添加一个comment列，对平均分4分以上的电影标‘推荐’，其他标‘不推荐’，输出到一个comment.csv中\n",
    "\n",
    "## 提交方式\n",
    "\n",
    "github工程源代码文件链接+结果截图\n"
   ]
  },
  {
   "cell_type": "code",
   "execution_count": 31,
   "metadata": {},
   "outputs": [],
   "source": [
    "import pandas as pd\n",
    "pd.set_option('display.max_columns',None)"
   ]
  },
  {
   "cell_type": "code",
   "execution_count": 32,
   "metadata": {},
   "outputs": [],
   "source": [
    "def read_file():\n",
    "    # 读取csv文件并返回DataFrame\n",
    "    df = pd.read_csv(r'file/ratings.csv')\n",
    "    return df"
   ]
  },
  {
   "cell_type": "code",
   "execution_count": 33,
   "metadata": {},
   "outputs": [],
   "source": [
    "def coment_level(x):\n",
    "    if x > 4:\n",
    "        return '(4,5]'\n",
    "    elif x > 3:\n",
    "        return '(3,4]'\n",
    "    elif x > 2:\n",
    "        return '(2,3]'\n",
    "    elif x > 1:\n",
    "        return '(1,2]'\n",
    "    else:\n",
    "        return '(0,1]'\n",
    "\n",
    "\n",
    "def add_comment(df):\n",
    "    # 添加comment列，对4分以上的电影标‘推荐’，其他标‘不推荐’\n",
    "    df['comment'] = df.rating.apply(lambda x: '推荐' if x > 4 else '不推荐')\n",
    "    df['cut'] = df.rating.apply(lambda x: coment_level(x))\n",
    "    return df\n"
   ]
  },
  {
   "cell_type": "code",
   "execution_count": 34,
   "metadata": {},
   "outputs": [],
   "source": [
    "def gather_rate(df):\n",
    "    # 对每个评分档汇总共有多少部电影，并打印出来\n",
    "    cut_counts = pd.DataFrame(df.cut.value_counts())\n",
    "    return cut_counts"
   ]
  },
  {
   "cell_type": "code",
   "execution_count": 35,
   "metadata": {},
   "outputs": [],
   "source": [
    "def write_file(df,file_path):\n",
    "    # 写入comment.csv文件中\n",
    "    df.to_csv(file_path)\n",
    "    "
   ]
  },
  {
   "cell_type": "markdown",
   "metadata": {},
   "source": [
    "1. 将每1分做为一档，电影的评分共分为5档，(0:1], (1,2], (2, 3], (3, 4], (4, 5], 打印出每个评分档共有多少部电影"
   ]
  },
  {
   "cell_type": "code",
   "execution_count": 36,
   "metadata": {},
   "outputs": [
    {
     "data": {
      "text/html": [
       "<div>\n",
       "<style scoped>\n",
       "    .dataframe tbody tr th:only-of-type {\n",
       "        vertical-align: middle;\n",
       "    }\n",
       "\n",
       "    .dataframe tbody tr th {\n",
       "        vertical-align: top;\n",
       "    }\n",
       "\n",
       "    .dataframe thead th {\n",
       "        text-align: right;\n",
       "    }\n",
       "</style>\n",
       "<table border=\"1\" class=\"dataframe\">\n",
       "  <thead>\n",
       "    <tr style=\"text-align: right;\">\n",
       "      <th></th>\n",
       "      <th>cut</th>\n",
       "    </tr>\n",
       "  </thead>\n",
       "  <tbody>\n",
       "    <tr>\n",
       "      <th>(3,4]</th>\n",
       "      <td>39954</td>\n",
       "    </tr>\n",
       "    <tr>\n",
       "      <th>(2,3]</th>\n",
       "      <td>25597</td>\n",
       "    </tr>\n",
       "    <tr>\n",
       "      <th>(4,5]</th>\n",
       "      <td>21762</td>\n",
       "    </tr>\n",
       "    <tr>\n",
       "      <th>(1,2]</th>\n",
       "      <td>9342</td>\n",
       "    </tr>\n",
       "    <tr>\n",
       "      <th>(0,1]</th>\n",
       "      <td>4181</td>\n",
       "    </tr>\n",
       "  </tbody>\n",
       "</table>\n",
       "</div>"
      ],
      "text/plain": [
       "         cut\n",
       "(3,4]  39954\n",
       "(2,3]  25597\n",
       "(4,5]  21762\n",
       "(1,2]   9342\n",
       "(0,1]   4181"
      ]
     },
     "execution_count": 36,
     "metadata": {},
     "output_type": "execute_result"
    }
   ],
   "source": [
    "rates = read_file()\n",
    "rates = add_comment(rates)\n",
    "gather_rate(rates)"
   ]
  },
  {
   "cell_type": "markdown",
   "metadata": {},
   "source": [
    "2. 添加一个comment列，对平均分4分以上的电影标‘推荐’，其他标‘不推荐’，输出到一个comment.csv中"
   ]
  },
  {
   "cell_type": "code",
   "execution_count": 37,
   "metadata": {},
   "outputs": [],
   "source": [
    "rates = read_file()\n",
    "movie_with_comments = add_comment(rates)\n",
    "write_file(movie_with_comments,'comment.csv')"
   ]
  }
 ],
 "metadata": {
  "kernelspec": {
   "display_name": "Python 3",
   "language": "python",
   "name": "python3"
  },
  "language_info": {
   "codemirror_mode": {
    "name": "ipython",
    "version": 3
   },
   "file_extension": ".py",
   "mimetype": "text/x-python",
   "name": "python",
   "nbconvert_exporter": "python",
   "pygments_lexer": "ipython3",
   "version": "3.7.6"
  }
 },
 "nbformat": 4,
 "nbformat_minor": 4
}
